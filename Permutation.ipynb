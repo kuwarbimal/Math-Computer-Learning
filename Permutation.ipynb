{
  "nbformat": 4,
  "nbformat_minor": 0,
  "metadata": {
    "colab": {
      "name": "Permutation.ipynb",
      "provenance": [],
      "authorship_tag": "ABX9TyMElkURr6igrP8qj/1skKsU",
      "include_colab_link": true
    },
    "kernelspec": {
      "name": "python3",
      "display_name": "Python 3"
    }
  },
  "cells": [
    {
      "cell_type": "markdown",
      "metadata": {
        "id": "view-in-github",
        "colab_type": "text"
      },
      "source": [
        "<a href=\"https://colab.research.google.com/github/kuwarbimal/Math-Computer-Learning/blob/main/Permutation.ipynb\" target=\"_parent\"><img src=\"https://colab.research.google.com/assets/colab-badge.svg\" alt=\"Open In Colab\"/></a>"
      ]
    },
    {
      "cell_type": "markdown",
      "metadata": {
        "id": "J3lOQnhsb7FT"
      },
      "source": [
        "# Counting \n",
        "Counting is one of the most important task in mathematics.  \n",
        "We will use python  and its library to compute counting.\n",
        "\n",
        "## Basic of Counting\n",
        "1. Generalized Rule of Sum\n",
        "2. Generalized Rule of Product"
      ]
    },
    {
      "cell_type": "code",
      "metadata": {
        "colab": {
          "base_uri": "https://localhost:8080/"
        },
        "id": "0JBxV6NicjPR",
        "outputId": "f0ed2d24-f2aa-4871-9be8-ed66d2f620d3"
      },
      "source": [
        "from itertools import combinations\n",
        "for c in combinations(\"abcdef\",2):\n",
        "  print(\"\".join(c))"
      ],
      "execution_count": 13,
      "outputs": [
        {
          "output_type": "stream",
          "text": [
            "ab\n",
            "ac\n",
            "ad\n",
            "ae\n",
            "af\n",
            "bc\n",
            "bd\n",
            "be\n",
            "bf\n",
            "cd\n",
            "ce\n",
            "cf\n",
            "de\n",
            "df\n",
            "ef\n"
          ],
          "name": "stdout"
        }
      ]
    },
    {
      "cell_type": "code",
      "metadata": {
        "colab": {
          "base_uri": "https://localhost:8080/"
        },
        "id": "vjKh7gT_ctuQ",
        "outputId": "7327f091-18a2-4d33-b715-0631616b5bbc"
      },
      "source": [
        "import itertools as it\n",
        "for c in it.combinations(\"abcdef\", 2):\n",
        "  print(\"\".join(c))"
      ],
      "execution_count": 14,
      "outputs": [
        {
          "output_type": "stream",
          "text": [
            "ab\n",
            "ac\n",
            "ad\n",
            "ae\n",
            "af\n",
            "bc\n",
            "bd\n",
            "be\n",
            "bf\n",
            "cd\n",
            "ce\n",
            "cf\n",
            "de\n",
            "df\n",
            "ef\n"
          ],
          "name": "stdout"
        }
      ]
    },
    {
      "cell_type": "code",
      "metadata": {
        "id": "HEea37h9c0hR"
      },
      "source": [
        "from copy import copy\n",
        "def permutation(arr):\n",
        "  if len(arr) == 0: return []\n",
        "  if  len(arr) == 1: return [copy(arr)]\n",
        "\n",
        "  res=[]\n",
        "  for members in permutation(arr[1:]):\n",
        "    for i in range(len(arr)):\n",
        "      nl = copy(members)\n",
        "      nl.insert(i, arr[0])\n",
        "      res.append(nl)\n",
        "  return res\n"
      ],
      "execution_count": 15,
      "outputs": []
    },
    {
      "cell_type": "code",
      "metadata": {
        "colab": {
          "base_uri": "https://localhost:8080/"
        },
        "id": "z_G6w8UOc6Bn",
        "outputId": "a1d9a37b-6742-4baa-851f-224e413ebb3f"
      },
      "source": [
        "len(permutation([1,2,3,4,5]))"
      ],
      "execution_count": 18,
      "outputs": [
        {
          "output_type": "execute_result",
          "data": {
            "text/plain": [
              "120"
            ]
          },
          "metadata": {
            "tags": []
          },
          "execution_count": 18
        }
      ]
    },
    {
      "cell_type": "code",
      "metadata": {
        "id": "TgFrLHoadRDF"
      },
      "source": [
        "def reduce(reducer, array, default=0):\n",
        "  acc=default\n",
        "  for x in array:\n",
        "    acc=reducer(acc, x)\n",
        "  return acc\n"
      ],
      "execution_count": 19,
      "outputs": []
    },
    {
      "cell_type": "code",
      "metadata": {
        "id": "u4NW959GpDRq",
        "colab": {
          "base_uri": "https://localhost:8080/"
        },
        "outputId": "f626b896-ef77-4b30-82da-1af034efd846"
      },
      "source": [
        "reduce(max, [-1,-2,-3,-5], default=float('-inf'))"
      ],
      "execution_count": 20,
      "outputs": [
        {
          "output_type": "execute_result",
          "data": {
            "text/plain": [
              "-1"
            ]
          },
          "metadata": {
            "tags": []
          },
          "execution_count": 20
        }
      ]
    },
    {
      "cell_type": "code",
      "metadata": {
        "id": "ue1JZW5oxLIK"
      },
      "source": [
        "from functools import reduce"
      ],
      "execution_count": null,
      "outputs": []
    },
    {
      "cell_type": "code",
      "metadata": {
        "id": "ba81hAC7x6G-"
      },
      "source": [
        "reduce(lambda acc, elem: acc*elem, [1,2,3,4,5], 0)"
      ],
      "execution_count": null,
      "outputs": []
    },
    {
      "cell_type": "code",
      "metadata": {
        "id": "lFd0elobyEXf"
      },
      "source": [
        "arr = [1,2,3]\n"
      ],
      "execution_count": null,
      "outputs": []
    },
    {
      "cell_type": "code",
      "metadata": {
        "id": "XgItCFRw2iTS"
      },
      "source": [
        "arr.insert(0, 5)"
      ],
      "execution_count": null,
      "outputs": []
    },
    {
      "cell_type": "code",
      "metadata": {
        "id": "FUZG-1LN2kJa"
      },
      "source": [
        "arr"
      ],
      "execution_count": null,
      "outputs": []
    },
    {
      "cell_type": "code",
      "metadata": {
        "id": "vqo5WR-g2kyq"
      },
      "source": [
        "arr.insert(4, 6)"
      ],
      "execution_count": null,
      "outputs": []
    },
    {
      "cell_type": "code",
      "metadata": {
        "id": "yH-NbljR2noi"
      },
      "source": [
        "arr"
      ],
      "execution_count": null,
      "outputs": []
    },
    {
      "cell_type": "code",
      "metadata": {
        "id": "ivoygbaX5by1"
      },
      "source": [
        "newlist=[1,2,2,3,4,4,5]\n",
        "dic={}\n",
        "#dic[email] = dic.get(email,0)+1\n",
        "for hour in newlist:\n",
        "  dic[hour] = dic.get(hour, 0) + 1\n",
        "  \n",
        "hours = sorted(dic.keys())\n",
        "for hour in hours:\n",
        "  print(hour, dic[hour])"
      ],
      "execution_count": null,
      "outputs": []
    }
  ]
}