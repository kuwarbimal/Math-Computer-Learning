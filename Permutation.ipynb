{
  "nbformat": 4,
  "nbformat_minor": 0,
  "metadata": {
    "colab": {
      "name": "Permutation.ipynb",
      "provenance": [],
      "authorship_tag": "ABX9TyMW0t6Nqh4cfvvBwT7X69Pq",
      "include_colab_link": true
    },
    "kernelspec": {
      "name": "python3",
      "display_name": "Python 3"
    }
  },
  "cells": [
    {
      "cell_type": "markdown",
      "metadata": {
        "id": "view-in-github",
        "colab_type": "text"
      },
      "source": [
        "<a href=\"https://colab.research.google.com/github/kuwarbimal/Math-Computer-Learning/blob/main/Permutation.ipynb\" target=\"_parent\"><img src=\"https://colab.research.google.com/assets/colab-badge.svg\" alt=\"Open In Colab\"/></a>"
      ]
    },
    {
      "cell_type": "code",
      "metadata": {
        "id": "hTmhee5YoY4A"
      },
      "source": [
        "def reduce(reducer, array, default=0):\n",
        "  acc=default\n",
        "  for x in array:\n",
        "    acc=reducer(acc, x)\n",
        "  return acc\n"
      ],
      "execution_count": null,
      "outputs": []
    },
    {
      "cell_type": "code",
      "metadata": {
        "id": "u4NW959GpDRq",
        "colab": {
          "base_uri": "https://localhost:8080/",
          "height": 34
        },
        "outputId": "a65d1d5e-a4b8-4dd3-a984-8b9ad0be0e23"
      },
      "source": [
        "reduce(max, [-1,-2,-3,-5], default=float('-inf'))"
      ],
      "execution_count": null,
      "outputs": [
        {
          "output_type": "execute_result",
          "data": {
            "text/plain": [
              "-1"
            ]
          },
          "metadata": {
            "tags": []
          },
          "execution_count": 8
        }
      ]
    },
    {
      "cell_type": "code",
      "metadata": {
        "id": "ue1JZW5oxLIK"
      },
      "source": [
        "from functools import reduce"
      ],
      "execution_count": null,
      "outputs": []
    },
    {
      "cell_type": "code",
      "metadata": {
        "id": "ba81hAC7x6G-",
        "colab": {
          "base_uri": "https://localhost:8080/",
          "height": 34
        },
        "outputId": "834ea4a1-e932-4b7c-ed6f-cdc68653d965"
      },
      "source": [
        "reduce(lambda acc, elem: acc*elem, [1,2,3,4,5], 0)"
      ],
      "execution_count": null,
      "outputs": [
        {
          "output_type": "execute_result",
          "data": {
            "text/plain": [
              "0"
            ]
          },
          "metadata": {
            "tags": []
          },
          "execution_count": 12
        }
      ]
    },
    {
      "cell_type": "code",
      "metadata": {
        "id": "lFd0elobyEXf"
      },
      "source": [
        "arr = [1,2,3]\n"
      ],
      "execution_count": null,
      "outputs": []
    },
    {
      "cell_type": "code",
      "metadata": {
        "id": "XgItCFRw2iTS"
      },
      "source": [
        "arr.insert(0, 5)"
      ],
      "execution_count": null,
      "outputs": []
    },
    {
      "cell_type": "code",
      "metadata": {
        "id": "FUZG-1LN2kJa",
        "colab": {
          "base_uri": "https://localhost:8080/",
          "height": 34
        },
        "outputId": "848fcf74-88ff-4dbc-f41b-b2564e19751c"
      },
      "source": [
        "arr"
      ],
      "execution_count": null,
      "outputs": [
        {
          "output_type": "execute_result",
          "data": {
            "text/plain": [
              "[5, 1, 2, 3]"
            ]
          },
          "metadata": {
            "tags": []
          },
          "execution_count": 15
        }
      ]
    },
    {
      "cell_type": "code",
      "metadata": {
        "id": "vqo5WR-g2kyq"
      },
      "source": [
        "arr.insert(4, 6)"
      ],
      "execution_count": null,
      "outputs": []
    },
    {
      "cell_type": "code",
      "metadata": {
        "id": "yH-NbljR2noi",
        "colab": {
          "base_uri": "https://localhost:8080/",
          "height": 34
        },
        "outputId": "f3b46117-d7bf-4b31-dd8c-0b9668b57a7d"
      },
      "source": [
        "arr"
      ],
      "execution_count": null,
      "outputs": [
        {
          "output_type": "execute_result",
          "data": {
            "text/plain": [
              "[5, 1, 2, 3, 6]"
            ]
          },
          "metadata": {
            "tags": []
          },
          "execution_count": 17
        }
      ]
    },
    {
      "cell_type": "code",
      "metadata": {
        "id": "c6Yv99xH2oea"
      },
      "source": [
        "from copy import copy\n",
        "def permutation(arr):\n",
        "  if len(arr) == 0: return []\n",
        "  if  len(arr) == 1: return [copy(arr)]\n",
        "\n",
        "  res=[]\n",
        "  for members in permutation(arr[1:]):\n",
        "    for i in range(len(arr)):\n",
        "      nl = copy(members)\n",
        "      nl.insert(i, arr[0])\n",
        "      res.append(nl)\n",
        "  return res\n"
      ],
      "execution_count": null,
      "outputs": []
    },
    {
      "cell_type": "code",
      "metadata": {
        "id": "HRQqZwDx5C9c",
        "colab": {
          "base_uri": "https://localhost:8080/",
          "height": 34
        },
        "outputId": "8cfcdaaf-065a-4c72-c03e-20eaeb54886c"
      },
      "source": [
        "permutation([1])"
      ],
      "execution_count": null,
      "outputs": [
        {
          "output_type": "execute_result",
          "data": {
            "text/plain": [
              "[]"
            ]
          },
          "metadata": {
            "tags": []
          },
          "execution_count": 27
        }
      ]
    },
    {
      "cell_type": "code",
      "metadata": {
        "id": "kodpZHNm5IvL",
        "colab": {
          "base_uri": "https://localhost:8080/",
          "height": 34
        },
        "outputId": "183e16e3-5db3-4a01-aed1-c653e87ca08f"
      },
      "source": [
        "permutation([1,2])"
      ],
      "execution_count": null,
      "outputs": [
        {
          "output_type": "execute_result",
          "data": {
            "text/plain": [
              "[]"
            ]
          },
          "metadata": {
            "tags": []
          },
          "execution_count": 26
        }
      ]
    },
    {
      "cell_type": "code",
      "metadata": {
        "id": "Z21clAI55Ttl",
        "colab": {
          "base_uri": "https://localhost:8080/",
          "height": 34
        },
        "outputId": "04bc2afc-da11-4b73-abff-fbf80f5e9da3"
      },
      "source": [
        "len(permuation([1,2,3,4,5]))"
      ],
      "execution_count": null,
      "outputs": [
        {
          "output_type": "execute_result",
          "data": {
            "text/plain": [
              "120"
            ]
          },
          "metadata": {
            "tags": []
          },
          "execution_count": 24
        }
      ]
    },
    {
      "cell_type": "code",
      "metadata": {
        "id": "ivoygbaX5by1",
        "colab": {
          "base_uri": "https://localhost:8080/",
          "height": 102
        },
        "outputId": "1cd8982c-aedc-4c57-969b-21a3a4c4d087"
      },
      "source": [
        "newlist=[1,2,2,3,4,4,5]\n",
        "dic={}\n",
        "#dic[email] = dic.get(email,0)+1\n",
        "for hour in newlist:\n",
        "  dic[hour] = dic.get(hour, 0) + 1\n",
        "  \n",
        "hours = sorted(dic.keys())\n",
        "for hour in hours:\n",
        "  print(hour, dic[hour])"
      ],
      "execution_count": null,
      "outputs": [
        {
          "output_type": "stream",
          "text": [
            "1 1\n",
            "2 2\n",
            "3 1\n",
            "4 2\n",
            "5 1\n"
          ],
          "name": "stdout"
        }
      ]
    }
  ]
}