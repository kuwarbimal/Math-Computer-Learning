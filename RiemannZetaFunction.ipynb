{
  "nbformat": 4,
  "nbformat_minor": 0,
  "metadata": {
    "colab": {
      "name": "RiemannZetaFunction.ipynb",
      "provenance": [],
      "include_colab_link": true
    },
    "kernelspec": {
      "name": "python3",
      "display_name": "Python 3"
    }
  },
  "cells": [
    {
      "cell_type": "markdown",
      "metadata": {
        "id": "view-in-github",
        "colab_type": "text"
      },
      "source": [
        "<a href=\"https://colab.research.google.com/github/kuwarbimal/Math-Computer-Learning/blob/main/RiemannZetaFunction.ipynb\" target=\"_parent\"><img src=\"https://colab.research.google.com/assets/colab-badge.svg\" alt=\"Open In Colab\"/></a>"
      ]
    },
    {
      "cell_type": "code",
      "metadata": {
        "id": "EHAe-wqplbli"
      },
      "source": [
        "import numpy as np\n",
        "import matplotlib.pyplot as plt\n",
        "import cmath"
      ],
      "execution_count": null,
      "outputs": []
    },
    {
      "cell_type": "code",
      "metadata": {
        "id": "0z_PSSeWz_yG"
      },
      "source": [
        "def zeta(s, num_iters=50):\n",
        "  arr= []\n",
        "  # initalize complex number value\n",
        "  sum_value = 0+0j\n",
        "  # define riemann zeta function\n",
        "  for i in range(0, num_iters):\n",
        "    den =  (i+1)**s\n",
        "    term = (1 + 0j)/den\n",
        "    sum_value += term\n",
        "    arr.append(sum_value)\n",
        "  print(arr)\n",
        "  # extract real parts and imaginary part of complex number and plot them.\n",
        "  reals = [x.real for x in arr]\n",
        "  imags = [x.imag for x in arr]\n",
        "  plt.plot(reals, imags)\n",
        "  return sum_value\n",
        "# if the graph spirals, it means the riemman sum is trying to converge.\n",
        "zeta(0.5+986.764j, 50000)"
      ],
      "execution_count": null,
      "outputs": []
    },
    {
      "cell_type": "code",
      "metadata": {
        "colab": {
          "base_uri": "https://localhost:8080/",
          "height": 319
        },
        "id": "_Ve-mA6k1W31",
        "outputId": "0ae77388-89f0-4b2d-c906-904a921bc519"
      },
      "source": [
        "zeta(0.5, 50)"
      ],
      "execution_count": null,
      "outputs": [
        {
          "output_type": "stream",
          "text": [
            "[(1+0j), (1.7071067811865475+0j), (2.284457050376173+0j), (2.784457050376173+0j), (3.231670645876131+0j), (3.639918936339994+0j), (4.0178834093492215+0j), (4.3714367999424955+0j), (4.7047701332758285+0j), (5.0209978992926665+0j), (5.32250924387043+0j), (5.611184378465243+0j), (5.888534476577857+0j), (6.155795718490282+0j), (6.413994608237443+0j), (6.663994608237443+0j), (6.906530233273776+0j), (7.142232493669292+0j), (7.371648227539854+0j), (7.595255025289833+0j), (7.813472915525826+0j), (8.026673631881437+0j), (8.23518804593851+0j), (8.439312191170442+0j), (8.639312191170442+0j), (8.835428326308625+0j), (9.0278784160385+0j), (9.216860652543115+0j), (9.402555990720167+0j), (9.585130176555221+0j), (9.764735478581997+0j), (9.941512173878634+0j), (10.115589829834331+0j), (10.28708841497684+0j), (10.456119265922542+0j), (10.622785932589208+0j), (10.787184919894566+0j), (10.949406341025329+0j), (11.109534494830415+0j), (11.267648377838833+0j), (11.42382213972744+0j), (11.578125489689532+0j), (11.730624060022135+0j), (11.881379732311018+0j), (12.030450930811003+0j), (12.1778928869659+0j), (12.323757878463795+0j), (12.4680954457612+0j), (12.610952588618343+0j), (12.752373944855652+0j)]\n"
          ],
          "name": "stdout"
        },
        {
          "output_type": "execute_result",
          "data": {
            "text/plain": [
              "(12.752373944855652+0j)"
            ]
          },
          "metadata": {
            "tags": []
          },
          "execution_count": 3
        },
        {
          "output_type": "display_data",
          "data": {
            "image/png": "[encoded data removed]",
            "text/plain": [
              "<Figure size 432x288 with 1 Axes>"
            ]
          },
          "metadata": {
            "tags": [],
            "needs_background": "light"
          }
        }
      ]
    },
    {
      "cell_type": "code",
      "metadata": {
        "colab": {
          "base_uri": "https://localhost:8080/",
          "height": 319
        },
        "id": "F8DwoXA21lM0",
        "outputId": "cd599b61-ab85-43c8-f56d-50281b879ace"
      },
      "source": [
        "zeta(-1, 100)"
      ],
      "execution_count": null,
      "outputs": [
        {
          "output_type": "stream",
          "text": [
            "[(1+0j), (3+0j), (6+0j), (10+0j), (15+0j), (21+0j), (28+0j), (36+0j), (45+0j), (55+0j), (66+0j), (78+0j), (91+0j), (105+0j), (120+0j), (136+0j), (153+0j), (171+0j), (190+0j), (210+0j), (231+0j), (253+0j), (276+0j), (300+0j), (325+0j), (351+0j), (378+0j), (406+0j), (435+0j), (465+0j), (496+0j), (528+0j), (561+0j), (595+0j), (630+0j), (666+0j), (703+0j), (741+0j), (780+0j), (820+0j), (861+0j), (903+0j), (946+0j), (990+0j), (1035+0j), (1081+0j), (1128+0j), (1176+0j), (1225+0j), (1275+0j), (1326+0j), (1378+0j), (1431+0j), (1485+0j), (1540+0j), (1596+0j), (1653+0j), (1711+0j), (1770+0j), (1830+0j), (1891+0j), (1953+0j), (2016+0j), (2080+0j), (2145+0j), (2211+0j), (2278+0j), (2346+0j), (2415+0j), (2485+0j), (2556+0j), (2628+0j), (2701+0j), (2775+0j), (2850+0j), (2926+0j), (3003+0j), (3081+0j), (3160+0j), (3240+0j), (3321+0j), (3403+0j), (3486+0j), (3570+0j), (3655+0j), (3741+0j), (3828+0j), (3916+0j), (4005+0j), (4095+0j), (4186+0j), (4278+0j), (4371+0j), (4465+0j), (4560+0j), (4656+0j), (4753+0j), (4851+0j), (4950+0j), (5050+0j)]\n"
          ],
          "name": "stdout"
        },
        {
          "output_type": "execute_result",
          "data": {
            "text/plain": [
              "(5050+0j)"
            ]
          },
          "metadata": {
            "tags": []
          },
          "execution_count": 4
        },
        {
          "output_type": "display_data",
          "data": {
            "image/png": "[encoded data removed]",
            "text/plain": [
              "<Figure size 432x288 with 1 Axes>"
            ]
          },
          "metadata": {
            "tags": [],
            "needs_background": "light"
          }
        }
      ]
    },
    {
      "cell_type": "code",
      "metadata": {
        "id": "O5fB6SS91slZ"
      },
      "source": [
        ""
      ],
      "execution_count": null,
      "outputs": []
    }
  ]
}