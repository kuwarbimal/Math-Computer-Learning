{
  "nbformat": 4,
  "nbformat_minor": 0,
  "metadata": {
    "colab": {
      "name": "PascalTriangle.ipynb",
      "provenance": [],
      "authorship_tag": "ABX9TyN3//r7UpukFuwkn7sq8xEo",
      "include_colab_link": true
    },
    "kernelspec": {
      "name": "python3",
      "display_name": "Python 3"
    },
    "language_info": {
      "name": "python"
    }
  },
  "cells": [
    {
      "cell_type": "markdown",
      "metadata": {
        "id": "view-in-github",
        "colab_type": "text"
      },
      "source": [
        "<a href=\"https://colab.research.google.com/github/kuwarbimal/Math-Computer-Learning/blob/main/PascalTriangle.ipynb\" target=\"_parent\"><img src=\"https://colab.research.google.com/assets/colab-badge.svg\" alt=\"Open In Colab\"/></a>"
      ]
    },
    {
      "cell_type": "markdown",
      "metadata": {
        "id": "FrF6bhnCi7On"
      },
      "source": [
        "# Pascal Triangle\n",
        "Selecting a group of $k$ students from $n$ total students.  \n",
        "Fix one student : Alice.   \n",
        "Now There are two types of teams:\n",
        "1. Team with Alice: $(n-1, k-1)$.\n",
        "2. Team without Alice: $(n-1, k)$.  \n",
        "\n",
        "\n",
        "So we have this identity; $(n,k)= (n-1, k-1)+(n-1, k)$"
      ]
    },
    {
      "cell_type": "code",
      "metadata": {
        "id": "ZBIGvVIVlds1"
      },
      "source": [
        " def choose(n, k):\n",
        "     if k in (0, n):\n",
        "         return 1\n",
        "     return choose(n-1, k-1) + choose(n-1, k)"
      ],
      "execution_count": null,
      "outputs": []
    },
    {
      "cell_type": "code",
      "metadata": {
        "colab": {
          "base_uri": "https://localhost:8080/"
        },
        "id": "svvX_K-6kNqg",
        "outputId": "523a2b98-13c4-4395-d490-8c5cfdf7d185"
      },
      "source": [
        "for row in range(10):\n",
        "    for k in range(row + 1):\n",
        "        print(choose(row, k), end=' ') \n",
        "    print()"
      ],
      "execution_count": null,
      "outputs": [
        {
          "output_type": "stream",
          "text": [
            "1 \n",
            "1 1 \n",
            "1 2 1 \n",
            "1 3 3 1 \n",
            "1 4 6 4 1 \n",
            "1 5 10 10 5 1 \n",
            "1 6 15 20 15 6 1 \n",
            "1 7 21 35 35 21 7 1 \n",
            "1 8 28 56 70 56 28 8 1 \n",
            "1 9 36 84 126 126 84 36 9 1 \n"
          ],
          "name": "stdout"
        }
      ]
    },
    {
      "cell_type": "code",
      "metadata": {
        "id": "qLrGQ7q2nrLn"
      },
      "source": [
        ""
      ],
      "execution_count": null,
      "outputs": []
    },
    {
      "cell_type": "markdown",
      "metadata": {
        "id": "FZf0NiZTWUY7"
      },
      "source": [
        "## Symmetry of Pascal Triangle\n",
        "$(n, k) = (n, n-k)$\n",
        "### Proof\n",
        "$(n,k)$ is number of ways choosing $k$ from $n$.  \n",
        "$(n, n-k)$ is number of ways choosing $n-k$ from $n$.  \n",
        "Both are number of ways of partiotioning $n$ into two groups of $k$ and $n-k$. One to one correpsondence between set of size $k$ and set of size $n-k$. Between the set and its complement.  \n",
        "For example: How many ways you can work 5 days out of a week is same thing as how many ways you can take 2 days off in a week."
      ]
    },
    {
      "cell_type": "code",
      "metadata": {
        "id": "ypH8pHriWflK"
      },
      "source": [
        ""
      ],
      "execution_count": null,
      "outputs": []
    },
    {
      "cell_type": "markdown",
      "metadata": {
        "id": "b5tA3VKelMG5"
      },
      "source": [
        "## Row Sum of a Pascal Triangle\n",
        "Theorem: The sume of all rows of a pascal triangle is $2^n$. ie $$ (n,0)+(n,1)+(n,2)+....(n,n) = 2^n$$ \n",
        "\n",
        "### Proof by Induction \n",
        "It is boring.\n",
        "\n",
        "### Combinatorial Proof\n",
        "\n",
        "If $n$ and $k$ are integers, then $(n,k)$ denotes the number of $k$-subsets that can be made by choosing $k$ elements from an $n$-element set.  \n",
        "The total number of subset is given by $2^n$\n",
        "\n",
        "## Alternating Row Sum\n",
        "Theorem: For $n>0, \\sum (-1)^k(n,k) =0$\n",
        "### Proof:\n",
        "For odd $n$ it follows from symmetry.  \n",
        "For even $n$, it is actually the sum of previous row, so they add to zero.  \n",
        "$(n,1)+(n,3) +...... =(n,0)+(n,2)+....$.   \n",
        "The number of odd size subsets is same as the number of even size subsets. Fix an element $x$. Now define a pair $(A, B)$ as $A= B+x$. This establishes an one to one correspondence between $A$ and $B$."
      ]
    },
    {
      "cell_type": "markdown",
      "metadata": {
        "id": "ggdEvUZ-qvN7"
      },
      "source": [
        "# Binomial Theorem\n",
        "Theorem: $(a+b)^n= \\sum_{k=0}^{n} (n,k)a^{n-k}b^k$\n",
        "\n",
        "### Proof by expansion\n",
        "$(a+b)^3=(a+b)(a+b)(a+b)= a^3+3a^2b+3ab^2+b^3$. \n",
        "For $a^3$, choose all three $a$'s from three $a$'s. To have $a^2b$, from three $a$'s choose two $a$'s and so on.\n"
      ]
    },
    {
      "cell_type": "markdown",
      "metadata": {
        "id": "XsJV8t8Bm8pb"
      },
      "source": [
        "## Consequences:\n",
        "1. $2^n=  \\sum_{k=0}^{n} (n,k)$ when $a=1, b=1$.\n",
        "2. $0=  \\sum_{k=0}^{n} (-1)^k(n,k)$ when $a=1, b=-1$.\n",
        "3. $3^n = \\sum_{k=0}^{n} (n,k)2^k$ when $a=1, b=2$.\n"
      ]
    },
    {
      "cell_type": "code",
      "metadata": {
        "id": "trFE-calmaek"
      },
      "source": [
        ""
      ],
      "execution_count": null,
      "outputs": []
    }
  ]
}